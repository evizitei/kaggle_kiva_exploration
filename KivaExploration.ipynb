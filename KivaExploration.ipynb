{
 "cells": [
  {
   "cell_type": "markdown",
   "metadata": {},
   "source": [
    "# Kiva Dataset"
   ]
  },
  {
   "cell_type": "code",
   "execution_count": 3,
   "metadata": {},
   "outputs": [
    {
     "data": {
      "text/plain": [
       "(671205, 20)"
      ]
     },
     "execution_count": 3,
     "metadata": {},
     "output_type": "execute_result"
    }
   ],
   "source": [
    "import pandas as pd\n",
    "# Load and explore main file\n",
    "\n",
    "kiva_df = pd.read_csv(\"./data/kiva_loans.csv\")\n",
    "kiva_df.shape"
   ]
  },
  {
   "cell_type": "code",
   "execution_count": 4,
   "metadata": {},
   "outputs": [
    {
     "data": {
      "text/html": [
       "<div>\n",
       "<style>\n",
       "    .dataframe thead tr:only-child th {\n",
       "        text-align: right;\n",
       "    }\n",
       "\n",
       "    .dataframe thead th {\n",
       "        text-align: left;\n",
       "    }\n",
       "\n",
       "    .dataframe tbody tr th {\n",
       "        vertical-align: top;\n",
       "    }\n",
       "</style>\n",
       "<table border=\"1\" class=\"dataframe\">\n",
       "  <thead>\n",
       "    <tr style=\"text-align: right;\">\n",
       "      <th></th>\n",
       "      <th>id</th>\n",
       "      <th>funded_amount</th>\n",
       "      <th>loan_amount</th>\n",
       "      <th>activity</th>\n",
       "      <th>sector</th>\n",
       "      <th>use</th>\n",
       "      <th>country_code</th>\n",
       "      <th>country</th>\n",
       "      <th>region</th>\n",
       "      <th>currency</th>\n",
       "      <th>partner_id</th>\n",
       "      <th>posted_time</th>\n",
       "      <th>disbursed_time</th>\n",
       "      <th>funded_time</th>\n",
       "      <th>term_in_months</th>\n",
       "      <th>lender_count</th>\n",
       "      <th>tags</th>\n",
       "      <th>borrower_genders</th>\n",
       "      <th>repayment_interval</th>\n",
       "      <th>date</th>\n",
       "    </tr>\n",
       "  </thead>\n",
       "  <tbody>\n",
       "    <tr>\n",
       "      <th>0</th>\n",
       "      <td>653051</td>\n",
       "      <td>300.0</td>\n",
       "      <td>300.0</td>\n",
       "      <td>Fruits &amp; Vegetables</td>\n",
       "      <td>Food</td>\n",
       "      <td>To buy seasonal, fresh fruits to sell.</td>\n",
       "      <td>PK</td>\n",
       "      <td>Pakistan</td>\n",
       "      <td>Lahore</td>\n",
       "      <td>PKR</td>\n",
       "      <td>247.0</td>\n",
       "      <td>2014-01-01 06:12:39+00:00</td>\n",
       "      <td>2013-12-17 08:00:00+00:00</td>\n",
       "      <td>2014-01-02 10:06:32+00:00</td>\n",
       "      <td>12.0</td>\n",
       "      <td>12</td>\n",
       "      <td>NaN</td>\n",
       "      <td>female</td>\n",
       "      <td>irregular</td>\n",
       "      <td>2014-01-01</td>\n",
       "    </tr>\n",
       "    <tr>\n",
       "      <th>1</th>\n",
       "      <td>653053</td>\n",
       "      <td>575.0</td>\n",
       "      <td>575.0</td>\n",
       "      <td>Rickshaw</td>\n",
       "      <td>Transportation</td>\n",
       "      <td>to repair and maintain the auto rickshaw used ...</td>\n",
       "      <td>PK</td>\n",
       "      <td>Pakistan</td>\n",
       "      <td>Lahore</td>\n",
       "      <td>PKR</td>\n",
       "      <td>247.0</td>\n",
       "      <td>2014-01-01 06:51:08+00:00</td>\n",
       "      <td>2013-12-17 08:00:00+00:00</td>\n",
       "      <td>2014-01-02 09:17:23+00:00</td>\n",
       "      <td>11.0</td>\n",
       "      <td>14</td>\n",
       "      <td>NaN</td>\n",
       "      <td>female, female</td>\n",
       "      <td>irregular</td>\n",
       "      <td>2014-01-01</td>\n",
       "    </tr>\n",
       "    <tr>\n",
       "      <th>2</th>\n",
       "      <td>653068</td>\n",
       "      <td>150.0</td>\n",
       "      <td>150.0</td>\n",
       "      <td>Transportation</td>\n",
       "      <td>Transportation</td>\n",
       "      <td>To repair their old cycle-van and buy another ...</td>\n",
       "      <td>IN</td>\n",
       "      <td>India</td>\n",
       "      <td>Maynaguri</td>\n",
       "      <td>INR</td>\n",
       "      <td>334.0</td>\n",
       "      <td>2014-01-01 09:58:07+00:00</td>\n",
       "      <td>2013-12-17 08:00:00+00:00</td>\n",
       "      <td>2014-01-01 16:01:36+00:00</td>\n",
       "      <td>43.0</td>\n",
       "      <td>6</td>\n",
       "      <td>user_favorite, user_favorite</td>\n",
       "      <td>female</td>\n",
       "      <td>bullet</td>\n",
       "      <td>2014-01-01</td>\n",
       "    </tr>\n",
       "    <tr>\n",
       "      <th>3</th>\n",
       "      <td>653063</td>\n",
       "      <td>200.0</td>\n",
       "      <td>200.0</td>\n",
       "      <td>Embroidery</td>\n",
       "      <td>Arts</td>\n",
       "      <td>to purchase an embroidery machine and a variet...</td>\n",
       "      <td>PK</td>\n",
       "      <td>Pakistan</td>\n",
       "      <td>Lahore</td>\n",
       "      <td>PKR</td>\n",
       "      <td>247.0</td>\n",
       "      <td>2014-01-01 08:03:11+00:00</td>\n",
       "      <td>2013-12-24 08:00:00+00:00</td>\n",
       "      <td>2014-01-01 13:00:00+00:00</td>\n",
       "      <td>11.0</td>\n",
       "      <td>8</td>\n",
       "      <td>NaN</td>\n",
       "      <td>female</td>\n",
       "      <td>irregular</td>\n",
       "      <td>2014-01-01</td>\n",
       "    </tr>\n",
       "    <tr>\n",
       "      <th>4</th>\n",
       "      <td>653084</td>\n",
       "      <td>400.0</td>\n",
       "      <td>400.0</td>\n",
       "      <td>Milk Sales</td>\n",
       "      <td>Food</td>\n",
       "      <td>to purchase one buffalo.</td>\n",
       "      <td>PK</td>\n",
       "      <td>Pakistan</td>\n",
       "      <td>Abdul Hakeem</td>\n",
       "      <td>PKR</td>\n",
       "      <td>245.0</td>\n",
       "      <td>2014-01-01 11:53:19+00:00</td>\n",
       "      <td>2013-12-17 08:00:00+00:00</td>\n",
       "      <td>2014-01-01 19:18:51+00:00</td>\n",
       "      <td>14.0</td>\n",
       "      <td>16</td>\n",
       "      <td>NaN</td>\n",
       "      <td>female</td>\n",
       "      <td>monthly</td>\n",
       "      <td>2014-01-01</td>\n",
       "    </tr>\n",
       "  </tbody>\n",
       "</table>\n",
       "</div>"
      ],
      "text/plain": [
       "       id  funded_amount  loan_amount             activity          sector  \\\n",
       "0  653051          300.0        300.0  Fruits & Vegetables            Food   \n",
       "1  653053          575.0        575.0             Rickshaw  Transportation   \n",
       "2  653068          150.0        150.0       Transportation  Transportation   \n",
       "3  653063          200.0        200.0           Embroidery            Arts   \n",
       "4  653084          400.0        400.0           Milk Sales            Food   \n",
       "\n",
       "                                                 use country_code   country  \\\n",
       "0            To buy seasonal, fresh fruits to sell.            PK  Pakistan   \n",
       "1  to repair and maintain the auto rickshaw used ...           PK  Pakistan   \n",
       "2  To repair their old cycle-van and buy another ...           IN     India   \n",
       "3  to purchase an embroidery machine and a variet...           PK  Pakistan   \n",
       "4                           to purchase one buffalo.           PK  Pakistan   \n",
       "\n",
       "         region currency  partner_id                posted_time  \\\n",
       "0        Lahore      PKR       247.0  2014-01-01 06:12:39+00:00   \n",
       "1        Lahore      PKR       247.0  2014-01-01 06:51:08+00:00   \n",
       "2     Maynaguri      INR       334.0  2014-01-01 09:58:07+00:00   \n",
       "3        Lahore      PKR       247.0  2014-01-01 08:03:11+00:00   \n",
       "4  Abdul Hakeem      PKR       245.0  2014-01-01 11:53:19+00:00   \n",
       "\n",
       "              disbursed_time                funded_time  term_in_months  \\\n",
       "0  2013-12-17 08:00:00+00:00  2014-01-02 10:06:32+00:00            12.0   \n",
       "1  2013-12-17 08:00:00+00:00  2014-01-02 09:17:23+00:00            11.0   \n",
       "2  2013-12-17 08:00:00+00:00  2014-01-01 16:01:36+00:00            43.0   \n",
       "3  2013-12-24 08:00:00+00:00  2014-01-01 13:00:00+00:00            11.0   \n",
       "4  2013-12-17 08:00:00+00:00  2014-01-01 19:18:51+00:00            14.0   \n",
       "\n",
       "   lender_count                          tags borrower_genders  \\\n",
       "0            12                           NaN           female   \n",
       "1            14                           NaN   female, female   \n",
       "2             6  user_favorite, user_favorite           female   \n",
       "3             8                           NaN           female   \n",
       "4            16                           NaN           female   \n",
       "\n",
       "  repayment_interval        date  \n",
       "0          irregular  2014-01-01  \n",
       "1          irregular  2014-01-01  \n",
       "2             bullet  2014-01-01  \n",
       "3          irregular  2014-01-01  \n",
       "4            monthly  2014-01-01  "
      ]
     },
     "execution_count": 4,
     "metadata": {},
     "output_type": "execute_result"
    }
   ],
   "source": [
    "kiva_df.head()"
   ]
  },
  {
   "cell_type": "markdown",
   "metadata": {},
   "source": [
    "### Country distribution\n",
    "\n",
    "Visualize how loans are distributed by country."
   ]
  },
  {
   "cell_type": "code",
   "execution_count": 23,
   "metadata": {},
   "outputs": [
    {
     "data": {
      "text/html": [
       "<script>requirejs.config({paths: { 'plotly': ['https://cdn.plot.ly/plotly-latest.min']},});if(!window.Plotly) {{require(['plotly'],function(plotly) {window.Plotly=plotly;});}}</script>"
      ],
      "text/vnd.plotly.v1+html": [
       "<script>requirejs.config({paths: { 'plotly': ['https://cdn.plot.ly/plotly-latest.min']},});if(!window.Plotly) {{require(['plotly'],function(plotly) {window.Plotly=plotly;});}}</script>"
      ]
     },
     "metadata": {},
     "output_type": "display_data"
    }
   ],
   "source": [
    "%matplotlib inline\n",
    "import plotly.graph_objs as go\n",
    "import plotly.offline as py\n",
    "py.init_notebook_mode(connected=True)"
   ]
  },
  {
   "cell_type": "code",
   "execution_count": 28,
   "metadata": {},
   "outputs": [
    {
     "data": {
      "application/vnd.plotly.v1+json": {
       "data": [
        {
         "orientation": "h",
         "type": "bar",
         "x": [
          1639,
          1703,
          1870,
          1934,
          1945,
          2230,
          2313,
          2409,
          2460,
          2690,
          3073,
          3269,
          3483,
          3618,
          3682,
          3821,
          4034,
          4167,
          4374,
          5219,
          5415,
          5741,
          5749,
          5774,
          6093,
          6214,
          6557,
          6639,
          6735,
          7310,
          7396,
          8167,
          8631,
          8792,
          8806,
          10136,
          10843,
          11237,
          11781,
          11903,
          13521,
          19580,
          20601,
          21995,
          22233,
          26857,
          34836,
          39875,
          75825,
          160441
         ],
         "y": [
          "Egypt",
          "Turkey",
          "Myanmar (Burma)",
          "Albania",
          "Azerbaijan",
          "Cameroon",
          "Yemen",
          "Georgia",
          "Burkina Faso",
          "Timor-Leste",
          "The Democratic Republic of the Congo",
          "Senegal",
          "Mozambique",
          "Haiti",
          "Liberia",
          "Madagascar",
          "Zimbabwe",
          "Jordan",
          "Ghana",
          "Tanzania",
          "Sierra Leone",
          "Mexico",
          "Togo",
          "Kyrgyzstan",
          "United States",
          "Indonesia",
          "Honduras",
          "Mali",
          "Rwanda",
          "Guatemala",
          "Samoa",
          "Palestine",
          "Armenia",
          "Lebanon",
          "Bolivia",
          "Nigeria",
          "Vietnam",
          "India",
          "Nicaragua",
          "Paraguay",
          "Ecuador",
          "Tajikistan",
          "Uganda",
          "Colombia",
          "Peru",
          "Pakistan",
          "Cambodia",
          "El Salvador",
          "Kenya",
          "Philippines"
         ]
        }
       ],
       "layout": {
        "height": 1000,
        "title": "Country Distribution of Loans",
        "width": 700
       }
      },
      "text/html": [
       "<div id=\"d5e7d664-6089-4fba-bb6e-b9cbb3547938\" style=\"height: 1000px; width: 700px;\" class=\"plotly-graph-div\"></div><script type=\"text/javascript\">require([\"plotly\"], function(Plotly) { window.PLOTLYENV=window.PLOTLYENV || {};window.PLOTLYENV.BASE_URL=\"https://plot.ly\";Plotly.newPlot(\"d5e7d664-6089-4fba-bb6e-b9cbb3547938\", [{\"type\": \"bar\", \"y\": [\"Egypt\", \"Turkey\", \"Myanmar (Burma)\", \"Albania\", \"Azerbaijan\", \"Cameroon\", \"Yemen\", \"Georgia\", \"Burkina Faso\", \"Timor-Leste\", \"The Democratic Republic of the Congo\", \"Senegal\", \"Mozambique\", \"Haiti\", \"Liberia\", \"Madagascar\", \"Zimbabwe\", \"Jordan\", \"Ghana\", \"Tanzania\", \"Sierra Leone\", \"Mexico\", \"Togo\", \"Kyrgyzstan\", \"United States\", \"Indonesia\", \"Honduras\", \"Mali\", \"Rwanda\", \"Guatemala\", \"Samoa\", \"Palestine\", \"Armenia\", \"Lebanon\", \"Bolivia\", \"Nigeria\", \"Vietnam\", \"India\", \"Nicaragua\", \"Paraguay\", \"Ecuador\", \"Tajikistan\", \"Uganda\", \"Colombia\", \"Peru\", \"Pakistan\", \"Cambodia\", \"El Salvador\", \"Kenya\", \"Philippines\"], \"x\": [1639, 1703, 1870, 1934, 1945, 2230, 2313, 2409, 2460, 2690, 3073, 3269, 3483, 3618, 3682, 3821, 4034, 4167, 4374, 5219, 5415, 5741, 5749, 5774, 6093, 6214, 6557, 6639, 6735, 7310, 7396, 8167, 8631, 8792, 8806, 10136, 10843, 11237, 11781, 11903, 13521, 19580, 20601, 21995, 22233, 26857, 34836, 39875, 75825, 160441], \"orientation\": \"h\"}], {\"title\": \"Country Distribution of Loans\", \"width\": 700, \"height\": 1000}, {\"showLink\": true, \"linkText\": \"Export to plot.ly\"})});</script>"
      ],
      "text/vnd.plotly.v1+html": [
       "<div id=\"d5e7d664-6089-4fba-bb6e-b9cbb3547938\" style=\"height: 1000px; width: 700px;\" class=\"plotly-graph-div\"></div><script type=\"text/javascript\">require([\"plotly\"], function(Plotly) { window.PLOTLYENV=window.PLOTLYENV || {};window.PLOTLYENV.BASE_URL=\"https://plot.ly\";Plotly.newPlot(\"d5e7d664-6089-4fba-bb6e-b9cbb3547938\", [{\"type\": \"bar\", \"y\": [\"Egypt\", \"Turkey\", \"Myanmar (Burma)\", \"Albania\", \"Azerbaijan\", \"Cameroon\", \"Yemen\", \"Georgia\", \"Burkina Faso\", \"Timor-Leste\", \"The Democratic Republic of the Congo\", \"Senegal\", \"Mozambique\", \"Haiti\", \"Liberia\", \"Madagascar\", \"Zimbabwe\", \"Jordan\", \"Ghana\", \"Tanzania\", \"Sierra Leone\", \"Mexico\", \"Togo\", \"Kyrgyzstan\", \"United States\", \"Indonesia\", \"Honduras\", \"Mali\", \"Rwanda\", \"Guatemala\", \"Samoa\", \"Palestine\", \"Armenia\", \"Lebanon\", \"Bolivia\", \"Nigeria\", \"Vietnam\", \"India\", \"Nicaragua\", \"Paraguay\", \"Ecuador\", \"Tajikistan\", \"Uganda\", \"Colombia\", \"Peru\", \"Pakistan\", \"Cambodia\", \"El Salvador\", \"Kenya\", \"Philippines\"], \"x\": [1639, 1703, 1870, 1934, 1945, 2230, 2313, 2409, 2460, 2690, 3073, 3269, 3483, 3618, 3682, 3821, 4034, 4167, 4374, 5219, 5415, 5741, 5749, 5774, 6093, 6214, 6557, 6639, 6735, 7310, 7396, 8167, 8631, 8792, 8806, 10136, 10843, 11237, 11781, 11903, 13521, 19580, 20601, 21995, 22233, 26857, 34836, 39875, 75825, 160441], \"orientation\": \"h\"}], {\"title\": \"Country Distribution of Loans\", \"width\": 700, \"height\": 1000}, {\"showLink\": true, \"linkText\": \"Export to plot.ly\"})});</script>"
      ]
     },
     "metadata": {},
     "output_type": "display_data"
    }
   ],
   "source": [
    "large_counts = kiva_df['country'].value_counts().head(50)\n",
    "trace = go.Bar(\n",
    "    y=large_counts.index[::-1],\n",
    "    x=large_counts.values[::-1],\n",
    "    orientation='h'\n",
    ")\n",
    "layout = go.Layout(\n",
    "    title='Country Distribution of Loans',\n",
    "    width=700,\n",
    "    height=1000\n",
    ")\n",
    "\n",
    "figure = go.Figure(data=[trace], layout=layout)\n",
    "py.iplot(figure, filename=\"CountryLoan\")"
   ]
  },
  {
   "cell_type": "code",
   "execution_count": 20,
   "metadata": {},
   "outputs": [
    {
     "data": {
      "text/plain": [
       "array([  1639,   1703,   1870,   1934,   1945,   2230,   2313,   2409,\n",
       "         2460,   2690,   3073,   3269,   3483,   3618,   3682,   3821,\n",
       "         4034,   4167,   4374,   5219,   5415,   5741,   5749,   5774,\n",
       "         6093,   6214,   6557,   6639,   6735,   7310,   7396,   8167,\n",
       "         8631,   8792,   8806,  10136,  10843,  11237,  11781,  11903,\n",
       "        13521,  19580,  20601,  21995,  22233,  26857,  34836,  39875,\n",
       "        75825, 160441])"
      ]
     },
     "execution_count": 20,
     "metadata": {},
     "output_type": "execute_result"
    }
   ],
   "source": [
    "large_counts.values[::-1]"
   ]
  },
  {
   "cell_type": "code",
   "execution_count": null,
   "metadata": {
    "collapsed": true
   },
   "outputs": [],
   "source": []
  }
 ],
 "metadata": {
  "kernelspec": {
   "display_name": "Python 3",
   "language": "python",
   "name": "python3"
  },
  "language_info": {
   "codemirror_mode": {
    "name": "ipython",
    "version": 3
   },
   "file_extension": ".py",
   "mimetype": "text/x-python",
   "name": "python",
   "nbconvert_exporter": "python",
   "pygments_lexer": "ipython3",
   "version": "3.6.2"
  }
 },
 "nbformat": 4,
 "nbformat_minor": 2
}
